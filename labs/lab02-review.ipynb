{
  "nbformat": 4,
  "nbformat_minor": 0,
  "metadata": {
    "kernelspec": {
      "display_name": "Python 3",
      "language": "python",
      "name": "python3"
    },
    "language_info": {
      "codemirror_mode": {
        "name": "ipython",
        "version": 2
      },
      "file_extension": ".py",
      "mimetype": "text/x-python",
      "name": "python",
      "nbconvert_exporter": "python",
      "pygments_lexer": "ipython2",
      "version": "2.7.6"
    },
    "colab": {
      "provenance": [],
      "include_colab_link": true
    }
  },
  "cells": [
    {
      "cell_type": "markdown",
      "metadata": {
        "id": "view-in-github",
        "colab_type": "text"
      },
      "source": [
        "<a href=\"https://colab.research.google.com/github/Mathias1232/comp215/blob/main/labs/lab02-review.ipynb\" target=\"_parent\"><img src=\"https://colab.research.google.com/assets/colab-badge.svg\" alt=\"Open In Colab\"/></a>"
      ]
    },
    {
      "cell_type": "markdown",
      "source": [
        "COMP 215 - LAB 2\n",
        "----------------\n",
        "#### Name(s):\n",
        "#### Date:\n",
        "\n",
        "By the end of this lab you should be able to:\n",
        "  * use strings, tuples, lists, and dictionaries (review)\n",
        "  * use *f-string* to simplify string formatting operations\n",
        "  * write functions and simple unit tests (review)\n",
        "  * use *list comprehension* to implement map and filter algorithms\n",
        "\n",
        "\n",
        "During this lab, you will be introduced to the following:\n",
        "  * API Keys\n",
        "  * JSON data formats\n",
        "  * the `datetime` module to represent dates and times\n",
        "  * the `pprint` module to format data structures"
      ],
      "metadata": {
        "id": "nbRPZPKZU5Pk"
      }
    },
    {
      "cell_type": "markdown",
      "source": [
        "## Near Earth Objects\n",
        "\n",
        "In this lab, we'll answer some questions about [Near Earth Objects](https://cneos.jpl.nasa.gov/) using NASA's API:  [https://api.nasa.gov/](https://api.nasa.gov/#NeoWS).  But, as usual, let's do the imports first.\n"
      ],
      "metadata": {
        "id": "UtWS08rgocwz"
      }
    },
    {
      "cell_type": "code",
      "execution_count": null,
      "outputs": [],
      "source": [
        "import datetime, json, requests\n",
        "from pprint import pprint    # Pretty Print - built-in python function to nicely format data structures"
      ],
      "metadata": {
        "pycharm": {
          "name": "#%%\n"
        },
        "ExecuteTime": {
          "end_time": "2024-01-04T04:05:38.688434Z",
          "start_time": "2024-01-04T04:05:38.640552Z"
        },
        "id": "uckgiW6LmxA_"
      }
    },
    {
      "cell_type": "markdown",
      "source": [
        "### dates & f-strings\n",
        "\n",
        "First we need a short tutorial on python dates and [f-strings](https://realpython.com/python-f-strings/)..."
      ],
      "metadata": {
        "collapsed": false,
        "pycharm": {
          "name": "#%% md\n"
        },
        "id": "z7R9AVbYmxBA"
      }
    },
    {
      "cell_type": "code",
      "execution_count": null,
      "outputs": [],
      "source": [
        "today = datetime.date.today()   # get a date object representing today's date\n",
        "print(today, type(today))\n",
        "formatted_date = f'Today is: {today}'   # A format string - notice how the variable `today` is formatted into the string\n",
        "print(formatted_date)"
      ],
      "metadata": {
        "pycharm": {
          "name": "#%%\n"
        },
        "ExecuteTime": {
          "end_time": "2024-01-04T04:05:38.691283Z",
          "start_time": "2024-01-04T04:05:38.688366Z"
        },
        "id": "FIqwOe5SmxBA"
      }
    },
    {
      "cell_type": "markdown",
      "source": [
        "### Make an API Query\n",
        "\n",
        "Let's get some data from the NEO database; here's a query that gets the observation \"feed\" for today.  Notice the first line of the block is an 'API key'.  An API key is a unique identifier that authenticates a user when making a request to an API.  Run the block below using the API key 'DEMO_KEY' (just to be sure it works), then go to https://api.nasa.gov and get your own API key.  Use your own API key for the remainder of the lab."
      ],
      "metadata": {
        "collapsed": false,
        "pycharm": {
          "name": "#%% md\n"
        },
        "id": "NyY93KiOmxBB"
      }
    },
    {
      "cell_type": "code",
      "execution_count": null,
      "outputs": [],
      "source": [
        "API_KEY = 'zvONe8dKAGJF1mlxEGM2Ae0ufJJ7S7T2cDq7hH5J'  # substitute your API key here\n",
        "\n",
        "# get today's date (as a string)\n",
        "#today = str(datetime.date.today())\n",
        "todayGlobal = '2023-01-09'\n",
        "\n",
        "# use an f-string to \"format\" the date and API key varaibles.\n",
        "url = f'https://api.nasa.gov/neo/rest/v1/feed?start_date={todayGlobal}&end_date={todayGlobal}&api_key={API_KEY}'\n",
        "\n",
        "# make the API request (recall from lab 1)\n",
        "response = requests.request(\"GET\", url, headers={}, data={})\n",
        "\n",
        "# convert the response to json format (recall from lab 1)\n",
        "data = json.loads(response.text)\n",
        "\n",
        "# TIP: print(data) to see the whole data structure returned, here we grab just the list of NEO's:\n",
        "n_results = data['element_count']\n",
        "neosGlobal = data['near_earth_objects'][todayGlobal]\n",
        "print(f'{n_results} Near Earth Objects found for {todayGlobal}')\n",
        "pprint(neosGlobal)"
      ],
      "metadata": {
        "collapsed": true,
        "pycharm": {
          "name": "#%%\n"
        },
        "ExecuteTime": {
          "end_time": "2024-01-04T04:05:43.064157Z",
          "start_time": "2024-01-04T04:05:38.691252Z"
        },
        "id": "vZYx2VfXmxBB"
      }
    },
    {
      "cell_type": "markdown",
      "source": [
        "Next we extract just the potentially hazerdous asteroids, using a Comp115-style list accumulator *loop*:"
      ],
      "metadata": {
        "collapsed": false,
        "pycharm": {
          "name": "#%% md\n"
        },
        "id": "g7VOkS2PmxBB"
      }
    },
    {
      "cell_type": "code",
      "execution_count": null,
      "metadata": {
        "id": "JDGbYTySU3BP",
        "ExecuteTime": {
          "end_time": "2024-01-04T04:05:43.065108Z",
          "start_time": "2024-01-04T04:05:43.062239Z"
        }
      },
      "outputs": [],
      "source": [
        "hazards =  []\n",
        "for item in neosGlobal:\n",
        "  if item['is_potentially_hazardous_asteroid'] is True:\n",
        "    hazards.append(item)\n",
        "print(f'{len(hazards)} potentially hazardous asteroids identified.')\n"
      ]
    },
    {
      "cell_type": "markdown",
      "source": [
        "### Fetch Complete Data for One Asteroid\n",
        "\n",
        "Notice that the record for each `neo` is a dictionary with `id` field that uniquely identifies this record in the database.  We can use this `id` to fetch complete orbital and close approach data for the NEO.  For example, this query fetches the complete data set for the first hazardous asteroid...  Notice that the `miss_distance` field contains the distance (in various units) by which the NEO missed an \"orbiting body\".\n"
      ],
      "metadata": {
        "collapsed": false,
        "pycharm": {
          "name": "#%% md\n"
        },
        "id": "Um5gAiVTmxBC"
      }
    },
    {
      "cell_type": "code",
      "execution_count": null,
      "outputs": [],
      "source": [
        "id = hazards[0]['id']\n",
        "url = f'https://api.nasa.gov/neo/rest/v1/neo/{id}?api_key={API_KEY}'\n",
        "response = requests.request(\"GET\", url, headers={}, data={})\n",
        "data = json.loads(response.text)\n",
        "\n",
        "pprint(data)"
      ],
      "metadata": {
        "collapsed": true,
        "pycharm": {
          "name": "#%%\n"
        },
        "ExecuteTime": {
          "end_time": "2024-01-04T04:05:43.787125Z",
          "start_time": "2024-01-04T04:05:43.067936Z"
        },
        "id": "NVRl3l7EmxBC"
      }
    },
    {
      "cell_type": "markdown",
      "source": [
        "## Exercise 1\n",
        "\n",
        "In the code cell below, **re-write the accumulator loop** that creates the list of hazards as a [list comprehension](https://realpython.com/lessons/list-comprehensions-overview/) that implements a [\"filter\"](https://youtu.be/hUes6y2b--0)\n",
        "Notice how this provides a concise way to \"filter\" items of interest from a larger data set."
      ],
      "metadata": {
        "collapsed": false,
        "pycharm": {
          "name": "#%% md\n"
        },
        "id": "93ns5r8gmxBB"
      }
    },
    {
      "cell_type": "code",
      "execution_count": 22,
      "outputs": [
        {
          "output_type": "stream",
          "name": "stdout",
          "text": [
            "3 potentially hazardous asteroids identified.\n"
          ]
        }
      ],
      "source": [
        "# Ex. 1 your code here\n",
        "\n",
        "#hazards = list(filter(lambda item: item['is_potentially_hazardous_asteroid'] is True, neos))\n",
        "\n",
        "# Makes a list using list comprehension using an if to filter the hazardous objects\n",
        "hazards = [item for item in neosGlobal if item['is_potentially_hazardous_asteroid']]\n",
        "print(f'{len(hazards)} potentially hazardous asteroids identified.')\n",
        "\n",
        "\n",
        "# For Assert\n",
        "# a is the hardcoded example for neos list\n",
        "a = [\n",
        "    {'is_potentially_hazardous_asteroid':True, 'id':'a', 'close_approach_data': [{'close_approach_date': '2024-01-09', 'miss_distance': {'kilometers': '2'}}]},\n",
        "    {'is_potentially_hazardous_asteroid':True, 'id':'b', 'close_approach_data': [{'close_approach_date': '2023-01-09', 'miss_distance': {'kilometers': '3'}}]},\n",
        "    {'is_potentially_hazardous_asteroid':False, 'id':'c', 'close_approach_data': [{'close_approach_date': '2022-01-09', 'miss_distance': {'kilometers': '4'}}]},\n",
        "    {'is_potentially_hazardous_asteroid':True, 'id':'d', 'close_approach_data': [{'close_approach_date': '2021-01-09', 'miss_distance': {'kilometers': '5'}}]}\n",
        "    ]\n",
        "# b performs the same list comprehension as earlier to filter out non hazardous objects\n",
        "b = [item for item in a if item['is_potentially_hazardous_asteroid']]\n",
        "# c is the hardcoded filtered list\n",
        "c= [\n",
        "    {'is_potentially_hazardous_asteroid':True, 'id':'a', 'close_approach_data': [{'close_approach_date': '2024-01-09', 'miss_distance': {'kilometers': '2'}}]},\n",
        "    {'is_potentially_hazardous_asteroid':True, 'id':'b', 'close_approach_data': [{'close_approach_date': '2023-01-09', 'miss_distance': {'kilometers': '3'}}]},\n",
        "    {'is_potentially_hazardous_asteroid':True, 'id':'d', 'close_approach_data': [{'close_approach_date': '2021-01-09', 'miss_distance': {'kilometers': '5'}}]}\n",
        "    ]\n",
        "# This asserts that the list comprehension and filter correctly makes a new list with only the hazardous objects\n",
        "assert b == c"
      ],
      "metadata": {
        "pycharm": {
          "name": "#%%\n"
        },
        "ExecuteTime": {
          "end_time": "2024-01-04T04:05:43.069849Z",
          "start_time": "2024-01-04T04:05:43.065922Z"
        },
        "id": "ewkwkc8wmxBB",
        "outputId": "2fde012c-09d3-47e6-ffcb-ca51ebbc00d7",
        "colab": {
          "base_uri": "https://localhost:8080/"
        }
      }
    },
    {
      "cell_type": "markdown",
      "source": [
        "\n",
        "\n",
        "## Exercise 2\n",
        "\n",
        "In the code cell below, write a python function that takes a list of \"close approach data\" as a parameter,\n",
        "and returns a 2-tuple with the (date, miss km) of the closest approach to Earth in the list (where \"miss km\" is the miss distance in km).\n",
        "\n",
        "Hints:\n",
        "* notice the input is a list of dictionaries.  Each dictionary has a 'close_approach_date\", \"orbiting_body\", and 'miss_distance' field.\n",
        "* we are only interested in the closest approach to \"Earth\"\n",
        "\n",
        "\n",
        "Add at least one unit test to check your work - note the test data only needs dictionaries with the fields your function actually uses.\n"
      ],
      "metadata": {
        "id": "DNRs7ynOYwYk"
      }
    },
    {
      "cell_type": "code",
      "source": [
        "# Ex. 2 your code here\n",
        "def closestApproach(data):\n",
        "  '''\n",
        "  Finds the closest hazardous approach an object in a given list has had with earth, as long as the list has data\n",
        "\n",
        "  Args:\n",
        "    data (list): A list of dictionaries of different object encounters\n",
        "\n",
        "  Returns:\n",
        "    Tuple: Returns a tuple with format (Date, Distance in km, id)\n",
        "  '''\n",
        "\n",
        "  # Checks if data is empty or not\n",
        "  if data:\n",
        "    # Sets the closest approach distance, date, and id to that of the first hazard in the list\n",
        "    closestDistance = data[0]['close_approach_data'][0]['miss_distance']['kilometers']\n",
        "    closestDate = data[0]['close_approach_data'][0]['close_approach_date']\n",
        "    closestID = data[0]['id']\n",
        "    # Loops through the rest of the hazards in the list not including the first and compares their distances\n",
        "    # If the distance of the new object is smaller than sets that as the new closest distance, also updates the date and id\n",
        "    for hazard in data[1:]:\n",
        "      currentDistance = hazard['close_approach_data'][0]['miss_distance']['kilometers']\n",
        "      currentDate = hazard['close_approach_data'][0]['close_approach_date']\n",
        "      currentID = hazard['id']\n",
        "      if currentDistance < closestDistance:\n",
        "        closestDistance = currentDistance\n",
        "        closestDate = currentDate\n",
        "        closestID = currentID\n",
        "    return (closestDate, float(closestDistance), closestID)\n",
        "\n",
        "# Assert using the previously made test list\n",
        "assert closestApproach(b) == ('2024-01-09', 2.0, 'a')"
      ],
      "metadata": {
        "id": "tiyXTDfnZAd0",
        "ExecuteTime": {
          "end_time": "2024-01-04T04:05:43.790535Z",
          "start_time": "2024-01-04T04:05:43.787064Z"
        }
      },
      "execution_count": 21,
      "outputs": []
    },
    {
      "cell_type": "markdown",
      "source": [
        "## Challenge Exercise\n",
        "\n",
        "In the code cell below, write a complete program that:\n",
        " 1. fetches the list of NEO's for this week.\n",
        " 2. for each NEO, fetch it's complete orbital data and determine its closest approach to Earth\n",
        " 3. identify which NEO from this week's data makes the closet approach to earth\n",
        " 4. print a nice message with information about the NEO, which it will approach the Earth, and how close it will come.\n",
        "\n",
        "Hints:\n",
        "* you'll need the start and end date - end date is today, see if you can use a [`timedelta`](https://docs.python.org/3/library/datetime.html#timedelta-objects) object to ge the start date (you can do basic \"date math\" with `timedelta` and `date` objects!)\n",
        "* you may need to modify the function we wrote in Ex. 2 to return a triple with the NEO's id included;\n",
        "* lots of opportunity here for more practice with list comprehensions\n"
      ],
      "metadata": {
        "collapsed": false,
        "id": "BrVVSFCnmxBC"
      }
    },
    {
      "cell_type": "code",
      "source": [
        "# Ex. 3 (challenge) your code here\n",
        "API_KEY = 'zvONe8dKAGJF1mlxEGM2Ae0ufJJ7S7T2cDq7hH5J'\n",
        "from datetime import timedelta\n",
        "def closestThisWeek():\n",
        "  '''\n",
        "  Finds the closest approach an object has had with earth in the past week, returns a tuple with date and distance of encounter\n",
        "\n",
        "  Args:\n",
        "    None\n",
        "\n",
        "  Returns:\n",
        "    Tuple: A tuple with the date and distance of the hazardous encounter format (date, distance in km)\n",
        "  '''\n",
        "\n",
        "  # Get today's date\n",
        "  today = str(datetime.date.today())\n",
        "  # Get the date a week ago\n",
        "  weekAgo = str(datetime.date.today() - timedelta(days=7))\n",
        "  # format the date and API key varaibles.\n",
        "  url = f'https://api.nasa.gov/neo/rest/v1/feed?start_date={weekAgo}&end_date={today}&api_key={API_KEY}'\n",
        "  # make the API request (recall from lab 1)\n",
        "  response = requests.request(\"GET\", url, headers={}, data={})\n",
        "  # convert the response to json format\n",
        "  data = json.loads(response.text)\n",
        "  neos = data['near_earth_objects']\n",
        "  hazards = []\n",
        "\n",
        "  # Given the neos data is sorted into days, this loop compiles all the data from different days into one list to be sorted by the closestApproach function\n",
        "  for date in neos.keys():\n",
        "    hazards += [item for item in neos[date] if item['is_potentially_hazardous_asteroid']]\n",
        "\n",
        "  closestDistance = closestApproach(hazards)\n",
        "\n",
        "  return closestDistance\n",
        "\n",
        "closestThisWeek()"
      ],
      "metadata": {
        "id": "Ds1YevErlzCe",
        "pycharm": {
          "name": "#%%\n"
        },
        "ExecuteTime": {
          "end_time": "2024-01-04T04:05:43.790766Z",
          "start_time": "2024-01-04T04:05:43.789211Z"
        },
        "colab": {
          "base_uri": "https://localhost:8080/"
        },
        "outputId": "e5820d28-84e5-4b05-8819-458d1a9e1eed",
        "collapsed": true
      },
      "execution_count": 23,
      "outputs": [
        {
          "output_type": "execute_result",
          "data": {
            "text/plain": [
              "('2025-01-14', 17371524.962223362, '2506491')"
            ]
          },
          "metadata": {},
          "execution_count": 23
        }
      ]
    }
  ]
}